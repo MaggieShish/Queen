{
 "cells": [
  {
   "cell_type": "code",
   "execution_count": 1,
   "id": "037bc199",
   "metadata": {},
   "outputs": [],
   "source": [
    "import pandas as pd"
   ]
  },
  {
   "cell_type": "code",
   "execution_count": 2,
   "id": "4a531395",
   "metadata": {},
   "outputs": [],
   "source": [
    "mydata= pd.read_csv(\"Data.csv\")"
   ]
  },
  {
   "cell_type": "code",
   "execution_count": 3,
   "id": "cef05cb8",
   "metadata": {},
   "outputs": [
    {
     "ename": "NameError",
     "evalue": "name 'data' is not defined",
     "output_type": "error",
     "traceback": [
      "\u001b[1;31m---------------------------------------------------------------------------\u001b[0m",
      "\u001b[1;31mNameError\u001b[0m                                 Traceback (most recent call last)",
      "\u001b[1;32m<ipython-input-3-c5d84736ba45>\u001b[0m in \u001b[0;36m<module>\u001b[1;34m\u001b[0m\n\u001b[1;32m----> 1\u001b[1;33m \u001b[0mdata\u001b[0m\u001b[1;33m\u001b[0m\u001b[1;33m\u001b[0m\u001b[0m\n\u001b[0m",
      "\u001b[1;31mNameError\u001b[0m: name 'data' is not defined"
     ]
    }
   ],
   "source": [
    "data"
   ]
  },
  {
   "cell_type": "code",
   "execution_count": 4,
   "id": "49b488f1",
   "metadata": {},
   "outputs": [
    {
     "data": {
      "text/html": [
       "<div>\n",
       "<style scoped>\n",
       "    .dataframe tbody tr th:only-of-type {\n",
       "        vertical-align: middle;\n",
       "    }\n",
       "\n",
       "    .dataframe tbody tr th {\n",
       "        vertical-align: top;\n",
       "    }\n",
       "\n",
       "    .dataframe thead th {\n",
       "        text-align: right;\n",
       "    }\n",
       "</style>\n",
       "<table border=\"1\" class=\"dataframe\">\n",
       "  <thead>\n",
       "    <tr style=\"text-align: right;\">\n",
       "      <th></th>\n",
       "      <th>DAY</th>\n",
       "      <th>IRRAD</th>\n",
       "      <th>TMIN</th>\n",
       "      <th>TMAX</th>\n",
       "      <th>VAP</th>\n",
       "      <th>WIND</th>\n",
       "      <th>RAIN</th>\n",
       "      <th>SNOWDEPTH</th>\n",
       "      <th>Unnamed: 8</th>\n",
       "    </tr>\n",
       "  </thead>\n",
       "  <tbody>\n",
       "    <tr>\n",
       "      <th>0</th>\n",
       "      <td>1/1/2001</td>\n",
       "      <td>22473.355080</td>\n",
       "      <td>16.760000</td>\n",
       "      <td>26.400000</td>\n",
       "      <td>10.15</td>\n",
       "      <td>2.700376</td>\n",
       "      <td>0.000000</td>\n",
       "      <td>-999.0</td>\n",
       "      <td>21.580000</td>\n",
       "    </tr>\n",
       "    <tr>\n",
       "      <th>1</th>\n",
       "      <td>1/2/2001</td>\n",
       "      <td>18266.698830</td>\n",
       "      <td>16.799999</td>\n",
       "      <td>27.330000</td>\n",
       "      <td>10.14</td>\n",
       "      <td>2.829110</td>\n",
       "      <td>0.000000</td>\n",
       "      <td>-999.0</td>\n",
       "      <td>22.065000</td>\n",
       "    </tr>\n",
       "    <tr>\n",
       "      <th>2</th>\n",
       "      <td>1/3/2001</td>\n",
       "      <td>16393.654690</td>\n",
       "      <td>17.700001</td>\n",
       "      <td>28.790001</td>\n",
       "      <td>10.13</td>\n",
       "      <td>2.704641</td>\n",
       "      <td>19.603001</td>\n",
       "      <td>-999.0</td>\n",
       "      <td>23.245001</td>\n",
       "    </tr>\n",
       "    <tr>\n",
       "      <th>3</th>\n",
       "      <td>1/4/2001</td>\n",
       "      <td>16142.310350</td>\n",
       "      <td>17.610001</td>\n",
       "      <td>27.020000</td>\n",
       "      <td>10.13</td>\n",
       "      <td>2.564393</td>\n",
       "      <td>0.000000</td>\n",
       "      <td>-999.0</td>\n",
       "      <td>22.315001</td>\n",
       "    </tr>\n",
       "    <tr>\n",
       "      <th>4</th>\n",
       "      <td>1/5/2001</td>\n",
       "      <td>15791.920310</td>\n",
       "      <td>17.950001</td>\n",
       "      <td>24.580000</td>\n",
       "      <td>10.13</td>\n",
       "      <td>2.490680</td>\n",
       "      <td>0.000000</td>\n",
       "      <td>-999.0</td>\n",
       "      <td>21.265000</td>\n",
       "    </tr>\n",
       "    <tr>\n",
       "      <th>...</th>\n",
       "      <td>...</td>\n",
       "      <td>...</td>\n",
       "      <td>...</td>\n",
       "      <td>...</td>\n",
       "      <td>...</td>\n",
       "      <td>...</td>\n",
       "      <td>...</td>\n",
       "      <td>...</td>\n",
       "      <td>...</td>\n",
       "    </tr>\n",
       "    <tr>\n",
       "      <th>7624</th>\n",
       "      <td>MEAN  =</td>\n",
       "      <td>16890.094800</td>\n",
       "      <td>15.985737</td>\n",
       "      <td>26.290963</td>\n",
       "      <td>NaN</td>\n",
       "      <td>3.283019</td>\n",
       "      <td>2.498234</td>\n",
       "      <td>NaN</td>\n",
       "      <td>NaN</td>\n",
       "    </tr>\n",
       "    <tr>\n",
       "      <th>7625</th>\n",
       "      <td>MODE  =</td>\n",
       "      <td>14495.246190</td>\n",
       "      <td>16.629999</td>\n",
       "      <td>26.530001</td>\n",
       "      <td>NaN</td>\n",
       "      <td>10.110000</td>\n",
       "      <td>1.790000</td>\n",
       "      <td>NaN</td>\n",
       "      <td>NaN</td>\n",
       "    </tr>\n",
       "    <tr>\n",
       "      <th>7626</th>\n",
       "      <td>MEDIAN=</td>\n",
       "      <td>16160.527440</td>\n",
       "      <td>16160.527440</td>\n",
       "      <td>16160.527440</td>\n",
       "      <td>NaN</td>\n",
       "      <td>3.127819</td>\n",
       "      <td>7.591962</td>\n",
       "      <td>NaN</td>\n",
       "      <td>NaN</td>\n",
       "    </tr>\n",
       "    <tr>\n",
       "      <th>7627</th>\n",
       "      <td>MAX   =</td>\n",
       "      <td>28279.954690</td>\n",
       "      <td>20.510000</td>\n",
       "      <td>32.689999</td>\n",
       "      <td>NaN</td>\n",
       "      <td>7.591962</td>\n",
       "      <td>183.335297</td>\n",
       "      <td>NaN</td>\n",
       "      <td>NaN</td>\n",
       "    </tr>\n",
       "    <tr>\n",
       "      <th>7628</th>\n",
       "      <td>MIN   =</td>\n",
       "      <td>7794.863086</td>\n",
       "      <td>9.220000</td>\n",
       "      <td>17.459999</td>\n",
       "      <td>NaN</td>\n",
       "      <td>0.000000</td>\n",
       "      <td>0.000000</td>\n",
       "      <td>NaN</td>\n",
       "      <td>NaN</td>\n",
       "    </tr>\n",
       "  </tbody>\n",
       "</table>\n",
       "<p>7629 rows × 9 columns</p>\n",
       "</div>"
      ],
      "text/plain": [
       "           DAY         IRRAD          TMIN          TMAX    VAP       WIND  \\\n",
       "0     1/1/2001  22473.355080     16.760000     26.400000  10.15   2.700376   \n",
       "1     1/2/2001  18266.698830     16.799999     27.330000  10.14   2.829110   \n",
       "2     1/3/2001  16393.654690     17.700001     28.790001  10.13   2.704641   \n",
       "3     1/4/2001  16142.310350     17.610001     27.020000  10.13   2.564393   \n",
       "4     1/5/2001  15791.920310     17.950001     24.580000  10.13   2.490680   \n",
       "...        ...           ...           ...           ...    ...        ...   \n",
       "7624   MEAN  =  16890.094800     15.985737     26.290963    NaN   3.283019   \n",
       "7625   MODE  =  14495.246190     16.629999     26.530001    NaN  10.110000   \n",
       "7626   MEDIAN=  16160.527440  16160.527440  16160.527440    NaN   3.127819   \n",
       "7627   MAX   =  28279.954690     20.510000     32.689999    NaN   7.591962   \n",
       "7628   MIN   =   7794.863086      9.220000     17.459999    NaN   0.000000   \n",
       "\n",
       "            RAIN  SNOWDEPTH  Unnamed: 8  \n",
       "0       0.000000     -999.0   21.580000  \n",
       "1       0.000000     -999.0   22.065000  \n",
       "2      19.603001     -999.0   23.245001  \n",
       "3       0.000000     -999.0   22.315001  \n",
       "4       0.000000     -999.0   21.265000  \n",
       "...          ...        ...         ...  \n",
       "7624    2.498234        NaN         NaN  \n",
       "7625    1.790000        NaN         NaN  \n",
       "7626    7.591962        NaN         NaN  \n",
       "7627  183.335297        NaN         NaN  \n",
       "7628    0.000000        NaN         NaN  \n",
       "\n",
       "[7629 rows x 9 columns]"
      ]
     },
     "execution_count": 4,
     "metadata": {},
     "output_type": "execute_result"
    }
   ],
   "source": [
    "mydata\n"
   ]
  },
  {
   "cell_type": "code",
   "execution_count": 5,
   "id": "d941435b",
   "metadata": {},
   "outputs": [
    {
     "data": {
      "text/html": [
       "<div>\n",
       "<style scoped>\n",
       "    .dataframe tbody tr th:only-of-type {\n",
       "        vertical-align: middle;\n",
       "    }\n",
       "\n",
       "    .dataframe tbody tr th {\n",
       "        vertical-align: top;\n",
       "    }\n",
       "\n",
       "    .dataframe thead th {\n",
       "        text-align: right;\n",
       "    }\n",
       "</style>\n",
       "<table border=\"1\" class=\"dataframe\">\n",
       "  <thead>\n",
       "    <tr style=\"text-align: right;\">\n",
       "      <th></th>\n",
       "      <th>IRRAD</th>\n",
       "      <th>TMIN</th>\n",
       "      <th>TMAX</th>\n",
       "      <th>VAP</th>\n",
       "      <th>WIND</th>\n",
       "      <th>RAIN</th>\n",
       "      <th>SNOWDEPTH</th>\n",
       "      <th>Unnamed: 8</th>\n",
       "    </tr>\n",
       "  </thead>\n",
       "  <tbody>\n",
       "    <tr>\n",
       "      <th>count</th>\n",
       "      <td>7629.000000</td>\n",
       "      <td>7629.000000</td>\n",
       "      <td>7629.000000</td>\n",
       "      <td>365.000000</td>\n",
       "      <td>7629.000000</td>\n",
       "      <td>7629.000000</td>\n",
       "      <td>365.0</td>\n",
       "      <td>7624.000000</td>\n",
       "    </tr>\n",
       "    <tr>\n",
       "      <th>mean</th>\n",
       "      <td>16889.986031</td>\n",
       "      <td>18.101735</td>\n",
       "      <td>28.405531</td>\n",
       "      <td>10.120932</td>\n",
       "      <td>3.284028</td>\n",
       "      <td>2.522185</td>\n",
       "      <td>-999.0</td>\n",
       "      <td>21.138350</td>\n",
       "    </tr>\n",
       "    <tr>\n",
       "      <th>std</th>\n",
       "      <td>3611.073343</td>\n",
       "      <td>184.843095</td>\n",
       "      <td>184.732752</td>\n",
       "      <td>0.017200</td>\n",
       "      <td>1.019972</td>\n",
       "      <td>9.697417</td>\n",
       "      <td>0.0</td>\n",
       "      <td>1.453366</td>\n",
       "    </tr>\n",
       "    <tr>\n",
       "      <th>min</th>\n",
       "      <td>7794.863086</td>\n",
       "      <td>9.220000</td>\n",
       "      <td>17.459999</td>\n",
       "      <td>10.070000</td>\n",
       "      <td>0.000000</td>\n",
       "      <td>0.000000</td>\n",
       "      <td>-999.0</td>\n",
       "      <td>15.015000</td>\n",
       "    </tr>\n",
       "    <tr>\n",
       "      <th>25%</th>\n",
       "      <td>14250.730080</td>\n",
       "      <td>15.090000</td>\n",
       "      <td>24.870001</td>\n",
       "      <td>10.110000</td>\n",
       "      <td>2.575461</td>\n",
       "      <td>0.000000</td>\n",
       "      <td>-999.0</td>\n",
       "      <td>20.183750</td>\n",
       "    </tr>\n",
       "    <tr>\n",
       "      <th>50%</th>\n",
       "      <td>16160.527440</td>\n",
       "      <td>16.070000</td>\n",
       "      <td>26.330000</td>\n",
       "      <td>10.120000</td>\n",
       "      <td>3.128069</td>\n",
       "      <td>0.000000</td>\n",
       "      <td>-999.0</td>\n",
       "      <td>21.220000</td>\n",
       "    </tr>\n",
       "    <tr>\n",
       "      <th>75%</th>\n",
       "      <td>18966.846090</td>\n",
       "      <td>16.930000</td>\n",
       "      <td>27.770000</td>\n",
       "      <td>10.130000</td>\n",
       "      <td>3.987946</td>\n",
       "      <td>0.000000</td>\n",
       "      <td>-999.0</td>\n",
       "      <td>22.100000</td>\n",
       "    </tr>\n",
       "    <tr>\n",
       "      <th>max</th>\n",
       "      <td>28279.954690</td>\n",
       "      <td>16160.527440</td>\n",
       "      <td>16160.527440</td>\n",
       "      <td>10.170000</td>\n",
       "      <td>10.110000</td>\n",
       "      <td>183.335297</td>\n",
       "      <td>-999.0</td>\n",
       "      <td>25.705001</td>\n",
       "    </tr>\n",
       "  </tbody>\n",
       "</table>\n",
       "</div>"
      ],
      "text/plain": [
       "              IRRAD          TMIN          TMAX         VAP         WIND  \\\n",
       "count   7629.000000   7629.000000   7629.000000  365.000000  7629.000000   \n",
       "mean   16889.986031     18.101735     28.405531   10.120932     3.284028   \n",
       "std     3611.073343    184.843095    184.732752    0.017200     1.019972   \n",
       "min     7794.863086      9.220000     17.459999   10.070000     0.000000   \n",
       "25%    14250.730080     15.090000     24.870001   10.110000     2.575461   \n",
       "50%    16160.527440     16.070000     26.330000   10.120000     3.128069   \n",
       "75%    18966.846090     16.930000     27.770000   10.130000     3.987946   \n",
       "max    28279.954690  16160.527440  16160.527440   10.170000    10.110000   \n",
       "\n",
       "              RAIN  SNOWDEPTH   Unnamed: 8  \n",
       "count  7629.000000      365.0  7624.000000  \n",
       "mean      2.522185     -999.0    21.138350  \n",
       "std       9.697417        0.0     1.453366  \n",
       "min       0.000000     -999.0    15.015000  \n",
       "25%       0.000000     -999.0    20.183750  \n",
       "50%       0.000000     -999.0    21.220000  \n",
       "75%       0.000000     -999.0    22.100000  \n",
       "max     183.335297     -999.0    25.705001  "
      ]
     },
     "execution_count": 5,
     "metadata": {},
     "output_type": "execute_result"
    }
   ],
   "source": [
    "mydata.describe()"
   ]
  },
  {
   "cell_type": "code",
   "execution_count": 7,
   "id": "90e0a620",
   "metadata": {},
   "outputs": [
    {
     "name": "stderr",
     "output_type": "stream",
     "text": [
      "Matplotlib is building the font cache; this may take a moment.\n"
     ]
    },
    {
     "data": {
      "image/png": "[encoded data removed]",
      "text/plain": [
       "<Figure size 432x288 with 1 Axes>"
      ]
     },
     "metadata": {
      "needs_background": "light"
     },
     "output_type": "display_data"
    }
   ],
   "source": [
    "import matplotlib.pyplot as plt\n",
    "x=[1,2,3,4,5,6,7,8]\n",
    "y=[2,4,6,8,10,12,14,16]\n",
    "plt.plot(x,y)\n",
    "plt.show()"
   ]
  },
  {
   "cell_type": "code",
   "execution_count": 8,
   "id": "f36478ee",
   "metadata": {},
   "outputs": [
    {
     "data": {
      "image/png": "[encoded data removed]",
      "text/plain": [
       "<Figure size 432x288 with 1 Axes>"
      ]
     },
     "metadata": {
      "needs_background": "light"
     },
     "output_type": "display_data"
    }
   ],
   "source": [
    "import matplotlib.pyplot as plt\n",
    "x=[1,2,3,4,5,6,7,8]\n",
    "y=[2,4,6,8,10,12,14,16]\n",
    "plt.plot(x,y)\n",
    "plt.show()"
   ]
  },
  {
   "cell_type": "code",
   "execution_count": 9,
   "id": "72e635e6",
   "metadata": {},
   "outputs": [
    {
     "data": {
      "text/plain": [
       "<AxesSubplot:xlabel='DAY'>"
      ]
     },
     "execution_count": 9,
     "metadata": {},
     "output_type": "execute_result"
    },
    {
     "data": {
      "image/png": "[encoded data removed]",
      "text/plain": [
       "<Figure size 432x288 with 1 Axes>"
      ]
     },
     "metadata": {
      "needs_background": "light"
     },
     "output_type": "display_data"
    }
   ],
   "source": [
    "mydata.plot(x='DAY',y='IRRAD',kind='line')"
   ]
  },
  {
   "cell_type": "code",
   "execution_count": null,
   "id": "1836c322",
   "metadata": {},
   "outputs": [],
   "source": []
  }
 ],
 "metadata": {
  "kernelspec": {
   "display_name": "Python 3",
   "language": "python",
   "name": "python3"
  },
  "language_info": {
   "codemirror_mode": {
    "name": "ipython",
    "version": 3
   },
   "file_extension": ".py",
   "mimetype": "text/x-python",
   "name": "python",
   "nbconvert_exporter": "python",
   "pygments_lexer": "ipython3",
   "version": "3.8.8"
  }
 },
 "nbformat": 4,
 "nbformat_minor": 5
}
